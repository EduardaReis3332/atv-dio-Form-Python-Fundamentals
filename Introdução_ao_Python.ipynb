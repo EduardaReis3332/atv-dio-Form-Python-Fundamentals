{
  "nbformat": 4,
  "nbformat_minor": 0,
  "metadata": {
    "colab": {
      "provenance": [],
      "authorship_tag": "ABX9TyM3RgftL4M9Tw1mt4/jriOk"
    },
    "kernelspec": {
      "name": "python3",
      "display_name": "Python 3"
    },
    "language_info": {
      "name": "python"
    }
  },
  "cells": [
    {
      "cell_type": "markdown",
      "source": [
        "# **Introdução ao Python**"
      ],
      "metadata": {
        "id": "VzvnRh5nRgBw"
      }
    },
    {
      "cell_type": "markdown",
      "source": [
        "## desafio de código"
      ],
      "metadata": {
        "id": "QlKV2YVLO9GT"
      }
    },
    {
      "cell_type": "markdown",
      "source": [
        "**Verificação de Paridade**\n",
        "\n",
        "**Descrição**\n",
        "\n",
        "Neste desafio, você deve escreva uma solução que receba um número inteiro como entrada e determine se ele é par ou ímpar. Dessa forma, a solução deve retornar uma string indicando Par se o número for par e Ímpar se o número for ímpar.\n",
        "\n",
        "Documentação Oficial:\n",
        "https://docs.python.org/pt-br/3/tutorial/controlflow.html\n",
        "\n",
        "**Entrada:**\n",
        "A entrada do programa é um único número inteiro.\n",
        "\n",
        "**Saída:**\n",
        "A saída do programa é uma string que será Par se o número for par e Ímpar se o número for ímpar."
      ],
      "metadata": {
        "id": "zFP6PmqYQfnA"
      }
    },
    {
      "cell_type": "code",
      "execution_count": 1,
      "metadata": {
        "id": "vz508NN9RZ32",
        "colab": {
          "base_uri": "https://localhost:8080/"
        },
        "outputId": "8cd3efa6-2f68-4e44-9ccd-3b8418d6f40b"
      },
      "outputs": [
        {
          "output_type": "stream",
          "name": "stdout",
          "text": [
            "7\n",
            "Ímpar\n"
          ]
        }
      ],
      "source": [
        "# Solicita ao usuário um número inteiro\n",
        "numero = int(input())\n",
        "\n",
        "# TODO: Verifique se o número é par ou ímpar e imprima o resultado:\n",
        "\n",
        "if numero % 2 == 0:\n",
        "  print(\"Par\")\n",
        "else:\n",
        "  print(\"Ímpar\")"
      ]
    },
    {
      "cell_type": "markdown",
      "source": [
        "**Verificador de Ano Bissexto**\n",
        "\n",
        "**Descrição**\n",
        "\n",
        "Escreva uma solução que informe se um determinado ano é bissexto. Um ano é considerado bissexto se ele for divisível por 4. No entanto, anos que são divisíveis por 100 não são bissextos, a menos que também sejam divisíveis por 400. Esta regra é usada para corrigir o calendário, de modo que ele fique em conformidade com o ano solar.\n",
        "\n",
        "**REGRA:**\n",
        "\n",
        "Um ano é bissexto se:\n",
        "1. Ele é divisível por 4 e não é divisível por 100.\n",
        "2. Ou ele é divisível por 400.\n",
        "\n",
        "Documentação Oficial:\n",
        "https://docs.python.org/pt-br/3/tutorial/controlflow.html\n",
        "\n",
        "**Entrada:**\n",
        "O programa deve receber um número inteiro que representa o ano a ser verificado.\n",
        "\n",
        "**Saída:**\n",
        "O programa deve imprimir SIM se o ano for bissexto, ou NÃO se não for bissexto."
      ],
      "metadata": {
        "id": "2Vvu6caBTYCV"
      }
    },
    {
      "cell_type": "code",
      "source": [
        "# TODO: Verifique se o ano é bissexto utilizando uma estrutura de controle condicional, como if/else:\n",
        "\n",
        "def verificador_ano_bissexto():\n",
        "    ano = int(input())\n",
        "    if (ano % 4 == 0 and ano % 100 != 0) or (ano % 400 == 0):\n",
        "      print(\"SIM\")\n",
        "    else:\n",
        "      print(\"NÃO\")\n",
        "\n",
        "verificador_ano_bissexto()"
      ],
      "metadata": {
        "colab": {
          "base_uri": "https://localhost:8080/"
        },
        "id": "q_2fno4NT30V",
        "outputId": "9c2c2952-94d9-43a1-cc2c-bf04a4821682"
      },
      "execution_count": 2,
      "outputs": [
        {
          "output_type": "stream",
          "name": "stdout",
          "text": [
            "2025\n",
            "NÃO\n"
          ]
        }
      ]
    },
    {
      "cell_type": "markdown",
      "source": [
        "**Contagem de Vogais**\n",
        "\n",
        "**Descrição**\n",
        "\n",
        "Neste desafio, implemente uma solução para completar a função conta_vogais que conta o número de vogais em uma string fornecida como entrada. Vogais são caracteres específicos sem acentuação, incluindo tanto letras minúsculas quanto maiúsculas (aeiouAEIOU).\n",
        "\n",
        "Para resolver este desafio, siga os passos abaixo:\n",
        "\n",
        "1. Defina um conjunto de vogais: Primeiramente, crie um conjunto contendo todas as vogais sem acentuação, incluindo tanto letras minúsculas quanto maiúsculas.\n",
        "\n",
        "2. Inicialize um contador: Em seguida, crie uma variável para contar o número de vogais encontradas na string, começando com zero.\n",
        "\n",
        "3. Itere pelos caracteres da string: Aqui percorremos cada caractere na string de entrada para verificar se é uma vogal.\n",
        "\n",
        "4. Verifique se o caractere é uma vogal: Para cada caractere, verifique se ele está presente no conjunto de vogais definido no passo 1. Se o caractere for uma vogal, incremente o contador em 1.\n",
        "\n",
        "5. Retorne o contador: Após percorrer todos os caracteres da string, retorne o valor do contador, que representa o número total de vogais na string.\n",
        "\n",
        "Documentação Oficial:\n",
        "https://docs.python.org/pt-br/3/tutorial/controlflow.html#for-statements\n",
        "\n",
        "**Entrada:**\n",
        "A função recebe como entrada uma única string contendo letras/palavras.\n",
        "\n",
        "**Saída:**\n",
        "A função deve retornar um número inteiro que representa o total de vogais encontradas na string de entrada."
      ],
      "metadata": {
        "id": "96xnj45vUob_"
      }
    },
    {
      "cell_type": "code",
      "source": [
        "def conta_vogais(texto):\n",
        "    # TODO: Defina um conjunto de vogais tanto minúsculas quanto maiúsculas:\n",
        "    vogais = set('aeiouAEIOU')\n",
        "    # TODO: Inicialize um contador para contar as vogais:\n",
        "    contador = 0\n",
        "\n",
        "    # Iteramos pelos caracteres da string\n",
        "    for char in texto:\n",
        "        # TODO: Verifique se o caractere atual é uma vogal e incremente o valor do contador:\n",
        "        if char in vogais:\n",
        "          contador += 1\n",
        "\n",
        "    return contador\n",
        "\n",
        "# Solicitamos ao usuário que insira uma string\n",
        "texto = input()\n",
        "\n",
        "# Chamamos a função conta_vogais e exibimos o resultado\n",
        "resultado = conta_vogais(texto)\n",
        "print(f\"O número de vogais na string '{texto}' é: {resultado}\")"
      ],
      "metadata": {
        "colab": {
          "base_uri": "https://localhost:8080/"
        },
        "id": "Lsi00BTgU7qw",
        "outputId": "187a805f-8d79-461e-e2f2-a3a03a56a976"
      },
      "execution_count": 3,
      "outputs": [
        {
          "output_type": "stream",
          "name": "stdout",
          "text": [
            "oi, sou eduarda\n",
            "O número de vogais na string 'oi, sou eduarda' é: 8\n"
          ]
        }
      ]
    }
  ]
}