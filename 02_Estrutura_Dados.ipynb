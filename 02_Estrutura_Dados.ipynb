{
  "nbformat": 4,
  "nbformat_minor": 0,
  "metadata": {
    "colab": {
      "provenance": [],
      "authorship_tag": "ABX9TyNii6/DEK98M6TeHW/nWL5e"
    },
    "kernelspec": {
      "name": "python3",
      "display_name": "Python 3"
    },
    "language_info": {
      "name": "python"
    }
  },
  "cells": [
    {
      "cell_type": "markdown",
      "source": [
        "# 02 - Estrutura de Dados"
      ],
      "metadata": {
        "id": "GyJq0hbt8rsg"
      }
    },
    {
      "cell_type": "markdown",
      "source": [
        "## Desafio de Código"
      ],
      "metadata": {
        "id": "wK-Yckv09JTV"
      }
    },
    {
      "cell_type": "markdown",
      "source": [
        "**Conhecendo Tuplas em Python**\n",
        "\n",
        "**Descrição**\n",
        "\n",
        "Desenvolva uma função em Python que recebe uma tupla de números inteiros e retorna a soma de todos os elementos dessa tupla. A função deve ser capaz de lidar com tuplas de qualquer tamanho, contanto que todos os elementos sejam números inteiros. O objetivo é praticar a manipulação de tuplas e a utilização de funções em Python.\n",
        "\n",
        "**Explicação de Resolução:**\n",
        "\n",
        "1. Converta cada string na \"lista_strings\" em um número inteiro utilizando a função \"int()\".\n",
        "2. Use a função \"map()\" para aplicar a função \"int()\" a cada elemento da \"lista_strings\".\n",
        "3. Armazene o resultado em uma variável chamada \"elementos\".\n",
        "\n",
        "**Documentação Oficial:**\n",
        "https://docs.python.org/pt-br/3/library/stdtypes.html#tuple\n",
        "\n",
        "**Entrada:**\n",
        "A entrada para o seu programa será uma única linha de texto contendo vários números inteiros separados por espaços. Esses números devem ser lidos e convertidos para uma tupla de inteiros.\n",
        "\n",
        "**Saída:**\n",
        "A saída do seu programa deve ser a soma de todos os números inteiros presentes na tupla. O resultado deve ser exibido de forma clara e amigável, seguindo o formato especificado. Aqui estão os passos detalhados para a saída:\n",
        "\n",
        "1. Calcule a soma de todos os elementos da tupla.\n",
        "\n",
        "2. Exiba a soma do valor calculado no formato: A soma dos elementos da tupla é: <soma>\n",
        "\n"
      ],
      "metadata": {
        "id": "umQ6fsfL9Xwv"
      }
    },
    {
      "cell_type": "code",
      "execution_count": 1,
      "metadata": {
        "colab": {
          "base_uri": "https://localhost:8080/"
        },
        "id": "Zt3g0n678h7W",
        "outputId": "c9019401-06bc-4cc8-ff27-06aecde9984d"
      },
      "outputs": [
        {
          "output_type": "stream",
          "name": "stdout",
          "text": [
            "9 8 7 6 5\n",
            "A soma dos elementos da tupla é: 35\n"
          ]
        }
      ],
      "source": [
        "# Função que recebe uma tupla de inteiros e retorna a soma dos elementos\n",
        "def soma_tupla(tupla):\n",
        "    return sum(tupla)\n",
        "\n",
        "if __name__ == \"__main__\":\n",
        "    entrada = input()\n",
        "\n",
        "    # Convertendo a entrada em uma tupla de inteiros\n",
        "    elementos = tuple(map(int, entrada.split()))\n",
        "\n",
        "    resultado = soma_tupla(elementos)\n",
        "    print(f\"A soma dos elementos da tupla é: {resultado}\")"
      ]
    },
    {
      "cell_type": "markdown",
      "source": [
        "\n",
        "\n",
        "---\n",
        "\n"
      ],
      "metadata": {
        "id": "4Dk7-W62_Bql"
      }
    },
    {
      "cell_type": "markdown",
      "source": [
        "**Explorando Conjuntos em Python**\n",
        "\n",
        "**Descrição**\n",
        "\n",
        "Desenvolva uma função que receba duas listas de números inteiros separados por espaço e retorne uma lista contendo apenas os elementos que são comuns a ambas as listas, sem duplicatas.\n",
        "\n",
        "**Detalhamento:**\n",
        "\n",
        "**Função elementos_comuns:**\n",
        "1. Crie a função que converte cada elemento das listas lista1 e lista2 para inteiro usando map(int, lista) antes de convertê-los em conjuntos (set) e encontrar a interseção entre eles. Isso garante que tratemos os elementos corretamente como números inteiros e não como strings.\n",
        "\n",
        "**Documentação Oficial:**\n",
        "https://docs.python.org/pt-br/3/tutorial/introduction.html#lists\n",
        "\n",
        "**Entrada:**\n",
        "Duas listas de inteiros separados apenas por espaço, por exemplo: 1 2 3 4 e 3 4 5 6.\n",
        "\n",
        "**Saída:**\n",
        "Uma lista com os elementos comuns, por exemplo: [3, 4]. Caso a entrada seja diferente do esperado, retorne: \"Entrada inválida.\""
      ],
      "metadata": {
        "id": "Hr6LQ3L9-SRj"
      }
    },
    {
      "cell_type": "code",
      "source": [
        "# TODO: Crie uma função 'elementos_comuns' que receba duas listas de números inteiros separados por espaço:\n",
        "\n",
        "def elementos_comuns(lista1, lista2):\n",
        "    # Converte os elementos das listas de string para inteiro e cria conjuntos\n",
        "    set1 = set(map(int, lista1))\n",
        "    set2 = set(map(int, lista2))\n",
        "    # Retorna a lista dos elementos comuns\n",
        "    return list(set1.intersection(set2))\n",
        "\n",
        "\n",
        "# Leitura das listas\n",
        "lista1 = input().split()\n",
        "lista2 = input().split()\n",
        "\n",
        "# Verifica se todos os elementos das listas podem ser convertidos para inteiros\n",
        "if all(item.isdigit() for item in lista1) and all(item.isdigit() for item in lista2):\n",
        "    comuns = elementos_comuns(lista1, lista2)\n",
        "    print(f\"Elementos comuns às duas listas: {comuns}\")\n",
        "else:\n",
        "    print(\"Entrada inválida.\")"
      ],
      "metadata": {
        "colab": {
          "base_uri": "https://localhost:8080/"
        },
        "id": "H5s78rBT-9oP",
        "outputId": "9b3d0333-be95-4642-d5b2-08981f7a22d0"
      },
      "execution_count": 2,
      "outputs": [
        {
          "output_type": "stream",
          "name": "stdout",
          "text": [
            "1 2 3 4\n",
            "3 4 5 6\n",
            "Elementos comuns às duas listas: [3, 4]\n"
          ]
        }
      ]
    },
    {
      "cell_type": "markdown",
      "source": [
        "\n",
        "\n",
        "---\n",
        "\n"
      ],
      "metadata": {
        "id": "mTetYckO_FYd"
      }
    },
    {
      "cell_type": "markdown",
      "source": [
        "**Dominando Dicionários**\n",
        "\n",
        "**Descrição**\n",
        "\n",
        "O desafio consiste em adicionar à função contar_caracteres um dicionário vazio chamado contador para armazenar as contagens de caracteres. Vamos iterar através de cada caractere na string string. Para cada caractere, verifique se ele já está presente no dicionário contador. Se estiver, incremente o valor associado a essa chave. Caso contrário, adicione a chave ao dicionário com valor inicial 1. Neste dicionário, as chaves são os caracteres presentes na string e os valores correspondem à contagem de vezes que cada caractere aparece.\n",
        "\n",
        "**Documentação Oficial:**\n",
        "https://docs.python.org/pt-br/3/tutorial/datastructures.html#dictionaries\n",
        "\n",
        "**Entrada:**\n",
        "A função espera receber uma única string como entrada. Neste desafio, consideramos como casos de teste apenas strings textuais.\n",
        "\n",
        "**Saída:**\n",
        "A função retorna um dicionário onde cada chave é um caractere presente na string de entrada e o valor associado a cada chave é a quantidade de vezes que o caractere ocorre na string."
      ],
      "metadata": {
        "id": "VI2ie6II_GNF"
      }
    },
    {
      "cell_type": "code",
      "source": [
        "def contar_caracteres(string):\n",
        "#TODO: Inicialize um dicionário vazio 'contador' para armazenar as contagens de caracteres.:\n",
        "  contador = {}\n",
        "#TODO: Itere através de cada caractere na string string.\n",
        "  for caractere in string:\n",
        "#TODO: Para cada caractere, verifique se ele já está presente no dicionário contador:\n",
        "    if caractere in contador:\n",
        "      contador[caractere] += 1\n",
        "    else:\n",
        "      contador[caractere] = 1\n",
        "\n",
        "  return contador\n",
        "\n",
        "# Solicita entrada do usuário\n",
        "entrada = input()\n",
        "resultado = contar_caracteres(entrada)\n",
        "print(resultado)"
      ],
      "metadata": {
        "colab": {
          "base_uri": "https://localhost:8080/"
        },
        "id": "g-ZTATVt_tS5",
        "outputId": "8ffacdcb-d8d6-4245-ac07-7a3c80b6154c"
      },
      "execution_count": 3,
      "outputs": [
        {
          "output_type": "stream",
          "name": "stdout",
          "text": [
            "collections\n",
            "{'c': 2, 'o': 2, 'l': 2, 'e': 1, 't': 1, 'i': 1, 'n': 1, 's': 1}\n"
          ]
        }
      ]
    }
  ]
}